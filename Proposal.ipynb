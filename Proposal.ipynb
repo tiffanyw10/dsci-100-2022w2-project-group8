{
 "cells": [
  {
   "cell_type": "markdown",
   "id": "8bdbddd9-aa2f-44f1-9c05-2bd731732837",
   "metadata": {},
   "source": [
    "# Relationship between marijuana/cannabis use and household income \n",
    "\n",
    "   Many studies have found a relationship between substance abuse and socioeconomic background, showing that substance abuse in young adults/children is associated with lower socioeconomic status. The data set we chose to help understand these associations is a survey done in 2018/2019 regarding student tobacco, alcohol and drug use. We want to find out if there exists a relationship between marijuana/cannabis use and household income.\n",
    "\n",
    "Methods: \n",
    "We will use the following two variables from the data set and use classification, rather than regression \n",
    "\n",
    "   **CAN_040** : In the last 30 days, how often did you use marijuana or cannabis?\n",
    "\n",
    "   **DVHHINC2** : Median Household Income of the area where the respondent’s school is located according to the Canadian 2016 census data\n",
    "\n",
    "**Describe one way we will visualize the results**\n",
    "Bar plot: To display the relationship between income and number of people using marijuana, we will plot income on the x-axis and number of drug users on the y-axis. \n",
    "\t\n",
    "\n",
    "**Expected Outcomes and Significance**\n",
    "\tWe expect to find that if household income is higher, then marijuana/cannabis use would be lower, so a negative relationship between these two variables.\n",
    "\n",
    "**what impact will these findings have?**\n",
    "If our findings show that a particular income group is associated with drug use, organizations would be able to address particular income areas in an attempt to lower substance abuse.\n",
    "\n",
    "If our hypothesis is correct, we could address further questions such as :\n",
    "Would individuals who come from a lower income household have better access to other types of drugs? \n",
    "Why would higher income individuals have lower drug use?\n",
    "What other reasoning would be behind higher drug use among individuals who come from lower income households? Is bullying a factor?\n"
   ]
  },
  {
   "cell_type": "code",
   "execution_count": 1,
   "id": "32ed5997-f01a-48d1-a23f-5ee4c13d6eaa",
   "metadata": {},
   "outputs": [
    {
     "name": "stderr",
     "output_type": "stream",
     "text": [
      "── \u001b[1mAttaching packages\u001b[22m ─────────────────────────────────────── tidyverse 1.3.1 ──\n",
      "\n",
      "\u001b[32m✔\u001b[39m \u001b[34mggplot2\u001b[39m 3.3.6     \u001b[32m✔\u001b[39m \u001b[34mpurrr  \u001b[39m 0.3.4\n",
      "\u001b[32m✔\u001b[39m \u001b[34mtibble \u001b[39m 3.1.7     \u001b[32m✔\u001b[39m \u001b[34mdplyr  \u001b[39m 1.0.9\n",
      "\u001b[32m✔\u001b[39m \u001b[34mtidyr  \u001b[39m 1.2.0     \u001b[32m✔\u001b[39m \u001b[34mstringr\u001b[39m 1.4.0\n",
      "\u001b[32m✔\u001b[39m \u001b[34mreadr  \u001b[39m 2.1.2     \u001b[32m✔\u001b[39m \u001b[34mforcats\u001b[39m 0.5.1\n",
      "\n",
      "── \u001b[1mConflicts\u001b[22m ────────────────────────────────────────── tidyverse_conflicts() ──\n",
      "\u001b[31m✖\u001b[39m \u001b[34mdplyr\u001b[39m::\u001b[32mfilter()\u001b[39m masks \u001b[34mstats\u001b[39m::filter()\n",
      "\u001b[31m✖\u001b[39m \u001b[34mdplyr\u001b[39m::\u001b[32mlag()\u001b[39m    masks \u001b[34mstats\u001b[39m::lag()\n",
      "\n",
      "── \u001b[1mAttaching packages\u001b[22m ────────────────────────────────────── tidymodels 1.0.0 ──\n",
      "\n",
      "\u001b[32m✔\u001b[39m \u001b[34mbroom       \u001b[39m 1.0.0     \u001b[32m✔\u001b[39m \u001b[34mrsample     \u001b[39m 1.0.0\n",
      "\u001b[32m✔\u001b[39m \u001b[34mdials       \u001b[39m 1.0.0     \u001b[32m✔\u001b[39m \u001b[34mtune        \u001b[39m 1.0.0\n",
      "\u001b[32m✔\u001b[39m \u001b[34minfer       \u001b[39m 1.0.2     \u001b[32m✔\u001b[39m \u001b[34mworkflows   \u001b[39m 1.0.0\n",
      "\u001b[32m✔\u001b[39m \u001b[34mmodeldata   \u001b[39m 1.0.0     \u001b[32m✔\u001b[39m \u001b[34mworkflowsets\u001b[39m 1.0.0\n",
      "\u001b[32m✔\u001b[39m \u001b[34mparsnip     \u001b[39m 1.0.0     \u001b[32m✔\u001b[39m \u001b[34myardstick   \u001b[39m 1.0.0\n",
      "\u001b[32m✔\u001b[39m \u001b[34mrecipes     \u001b[39m 1.0.1     \n",
      "\n",
      "── \u001b[1mConflicts\u001b[22m ───────────────────────────────────────── tidymodels_conflicts() ──\n",
      "\u001b[31m✖\u001b[39m \u001b[34mscales\u001b[39m::\u001b[32mdiscard()\u001b[39m masks \u001b[34mpurrr\u001b[39m::discard()\n",
      "\u001b[31m✖\u001b[39m \u001b[34mdplyr\u001b[39m::\u001b[32mfilter()\u001b[39m   masks \u001b[34mstats\u001b[39m::filter()\n",
      "\u001b[31m✖\u001b[39m \u001b[34mrecipes\u001b[39m::\u001b[32mfixed()\u001b[39m  masks \u001b[34mstringr\u001b[39m::fixed()\n",
      "\u001b[31m✖\u001b[39m \u001b[34mdplyr\u001b[39m::\u001b[32mlag()\u001b[39m      masks \u001b[34mstats\u001b[39m::lag()\n",
      "\u001b[31m✖\u001b[39m \u001b[34myardstick\u001b[39m::\u001b[32mspec()\u001b[39m masks \u001b[34mreadr\u001b[39m::spec()\n",
      "\u001b[31m✖\u001b[39m \u001b[34mrecipes\u001b[39m::\u001b[32mstep()\u001b[39m   masks \u001b[34mstats\u001b[39m::step()\n",
      "\u001b[34m•\u001b[39m Use \u001b[32mtidymodels_prefer()\u001b[39m to resolve common conflicts.\n",
      "\n"
     ]
    }
   ],
   "source": [
    "library(repr)\n",
    "library(tidyverse)\n",
    "library(tidymodels)"
   ]
  },
  {
   "cell_type": "code",
   "execution_count": 3,
   "id": "937f2a8f-ba73-4ce3-9cfe-264e46500c7d",
   "metadata": {},
   "outputs": [
    {
     "name": "stderr",
     "output_type": "stream",
     "text": [
      "\u001b[1mRows: \u001b[22m\u001b[34m62850\u001b[39m \u001b[1mColumns: \u001b[22m\u001b[34m185\u001b[39m\n",
      "\u001b[36m──\u001b[39m \u001b[1mColumn specification\u001b[22m \u001b[36m────────────────────────────────────────────────────────\u001b[39m\n",
      "\u001b[1mDelimiter:\u001b[22m \"\\t\"\n",
      "\u001b[32mdbl\u001b[39m (185): SCANID, MODULE, PROVID, SCHID, GRADE, SEX, SS_010, SS_020, TS_011...\n",
      "\n",
      "\u001b[36mℹ\u001b[39m Use `spec()` to retrieve the full column specification for this data.\n",
      "\u001b[36mℹ\u001b[39m Specify the column types or set `show_col_types = FALSE` to quiet this message.\n"
     ]
    }
   ],
   "source": [
    "drugdata <- read_tsv(\"cstdata.tab\")"
   ]
  },
  {
   "cell_type": "code",
   "execution_count": 5,
   "id": "789ff081-8be0-4646-81c9-9e930d4a0579",
   "metadata": {},
   "outputs": [
    {
     "data": {
      "text/html": [
       "<table class=\"dataframe\">\n",
       "<caption>A tibble: 6 × 185</caption>\n",
       "<thead>\n",
       "\t<tr><th scope=col>SCANID</th><th scope=col>MODULE</th><th scope=col>PROVID</th><th scope=col>SCHID</th><th scope=col>GRADE</th><th scope=col>SEX</th><th scope=col>SS_010</th><th scope=col>SS_020</th><th scope=col>TS_011</th><th scope=col>TV_010</th><th scope=col>⋯</th><th scope=col>DVTY2ST</th><th scope=col>DVLAST30</th><th scope=col>DVAMTSMK</th><th scope=col>DVCIGWK</th><th scope=col>DVNDSMK</th><th scope=col>DVAVCIGD</th><th scope=col>DVRES</th><th scope=col>DVURBAN</th><th scope=col>DVHHINC2</th><th scope=col>WTPP</th></tr>\n",
       "\t<tr><th scope=col>&lt;dbl&gt;</th><th scope=col>&lt;dbl&gt;</th><th scope=col>&lt;dbl&gt;</th><th scope=col>&lt;dbl&gt;</th><th scope=col>&lt;dbl&gt;</th><th scope=col>&lt;dbl&gt;</th><th scope=col>&lt;dbl&gt;</th><th scope=col>&lt;dbl&gt;</th><th scope=col>&lt;dbl&gt;</th><th scope=col>&lt;dbl&gt;</th><th scope=col>⋯</th><th scope=col>&lt;dbl&gt;</th><th scope=col>&lt;dbl&gt;</th><th scope=col>&lt;dbl&gt;</th><th scope=col>&lt;dbl&gt;</th><th scope=col>&lt;dbl&gt;</th><th scope=col>&lt;dbl&gt;</th><th scope=col>&lt;dbl&gt;</th><th scope=col>&lt;dbl&gt;</th><th scope=col>&lt;dbl&gt;</th><th scope=col>&lt;dbl&gt;</th></tr>\n",
       "</thead>\n",
       "<tbody>\n",
       "\t<tr><td>100224</td><td>1</td><td>35</td><td>3589267</td><td> 9</td><td>1</td><td>1</td><td>13</td><td>2</td><td>3</td><td>⋯</td><td>1</td><td>1</td><td> 1</td><td>  8</td><td> 5</td><td> 2</td><td>1</td><td>2</td><td>60000</td><td> 33.15</td></tr>\n",
       "\t<tr><td>100225</td><td>1</td><td>35</td><td>3589267</td><td> 9</td><td>1</td><td>1</td><td>13</td><td>1</td><td>1</td><td>⋯</td><td>1</td><td>1</td><td>10</td><td> 70</td><td> 7</td><td>10</td><td>1</td><td>2</td><td>60000</td><td> 33.15</td></tr>\n",
       "\t<tr><td>100226</td><td>1</td><td>35</td><td>3589267</td><td>12</td><td>1</td><td>2</td><td>96</td><td>4</td><td>3</td><td>⋯</td><td>7</td><td>2</td><td>96</td><td>996</td><td>96</td><td>96</td><td>3</td><td>2</td><td>60000</td><td> 75.14</td></tr>\n",
       "\t<tr><td>100227</td><td>1</td><td>35</td><td>3589267</td><td>12</td><td>2</td><td>1</td><td> 2</td><td>3</td><td>2</td><td>⋯</td><td>4</td><td>1</td><td> 0</td><td>  0</td><td> 0</td><td> 0</td><td>1</td><td>2</td><td>60000</td><td>105.70</td></tr>\n",
       "\t<tr><td>100228</td><td>1</td><td>35</td><td>3589267</td><td>12</td><td>1</td><td>1</td><td> 2</td><td>3</td><td>3</td><td>⋯</td><td>6</td><td>2</td><td>96</td><td>996</td><td>96</td><td>96</td><td>1</td><td>2</td><td>60000</td><td> 75.14</td></tr>\n",
       "\t<tr><td>100229</td><td>1</td><td>35</td><td>3589267</td><td>11</td><td>1</td><td>2</td><td>96</td><td>4</td><td>3</td><td>⋯</td><td>7</td><td>2</td><td>96</td><td>996</td><td>96</td><td>96</td><td>1</td><td>2</td><td>60000</td><td> 63.87</td></tr>\n",
       "</tbody>\n",
       "</table>\n"
      ],
      "text/latex": [
       "A tibble: 6 × 185\n",
       "\\begin{tabular}{lllllllllllllllllllll}\n",
       " SCANID & MODULE & PROVID & SCHID & GRADE & SEX & SS\\_010 & SS\\_020 & TS\\_011 & TV\\_010 & ⋯ & DVTY2ST & DVLAST30 & DVAMTSMK & DVCIGWK & DVNDSMK & DVAVCIGD & DVRES & DVURBAN & DVHHINC2 & WTPP\\\\\n",
       " <dbl> & <dbl> & <dbl> & <dbl> & <dbl> & <dbl> & <dbl> & <dbl> & <dbl> & <dbl> & ⋯ & <dbl> & <dbl> & <dbl> & <dbl> & <dbl> & <dbl> & <dbl> & <dbl> & <dbl> & <dbl>\\\\\n",
       "\\hline\n",
       "\t 100224 & 1 & 35 & 3589267 &  9 & 1 & 1 & 13 & 2 & 3 & ⋯ & 1 & 1 &  1 &   8 &  5 &  2 & 1 & 2 & 60000 &  33.15\\\\\n",
       "\t 100225 & 1 & 35 & 3589267 &  9 & 1 & 1 & 13 & 1 & 1 & ⋯ & 1 & 1 & 10 &  70 &  7 & 10 & 1 & 2 & 60000 &  33.15\\\\\n",
       "\t 100226 & 1 & 35 & 3589267 & 12 & 1 & 2 & 96 & 4 & 3 & ⋯ & 7 & 2 & 96 & 996 & 96 & 96 & 3 & 2 & 60000 &  75.14\\\\\n",
       "\t 100227 & 1 & 35 & 3589267 & 12 & 2 & 1 &  2 & 3 & 2 & ⋯ & 4 & 1 &  0 &   0 &  0 &  0 & 1 & 2 & 60000 & 105.70\\\\\n",
       "\t 100228 & 1 & 35 & 3589267 & 12 & 1 & 1 &  2 & 3 & 3 & ⋯ & 6 & 2 & 96 & 996 & 96 & 96 & 1 & 2 & 60000 &  75.14\\\\\n",
       "\t 100229 & 1 & 35 & 3589267 & 11 & 1 & 2 & 96 & 4 & 3 & ⋯ & 7 & 2 & 96 & 996 & 96 & 96 & 1 & 2 & 60000 &  63.87\\\\\n",
       "\\end{tabular}\n"
      ],
      "text/markdown": [
       "\n",
       "A tibble: 6 × 185\n",
       "\n",
       "| SCANID &lt;dbl&gt; | MODULE &lt;dbl&gt; | PROVID &lt;dbl&gt; | SCHID &lt;dbl&gt; | GRADE &lt;dbl&gt; | SEX &lt;dbl&gt; | SS_010 &lt;dbl&gt; | SS_020 &lt;dbl&gt; | TS_011 &lt;dbl&gt; | TV_010 &lt;dbl&gt; | ⋯ ⋯ | DVTY2ST &lt;dbl&gt; | DVLAST30 &lt;dbl&gt; | DVAMTSMK &lt;dbl&gt; | DVCIGWK &lt;dbl&gt; | DVNDSMK &lt;dbl&gt; | DVAVCIGD &lt;dbl&gt; | DVRES &lt;dbl&gt; | DVURBAN &lt;dbl&gt; | DVHHINC2 &lt;dbl&gt; | WTPP &lt;dbl&gt; |\n",
       "|---|---|---|---|---|---|---|---|---|---|---|---|---|---|---|---|---|---|---|---|---|\n",
       "| 100224 | 1 | 35 | 3589267 |  9 | 1 | 1 | 13 | 2 | 3 | ⋯ | 1 | 1 |  1 |   8 |  5 |  2 | 1 | 2 | 60000 |  33.15 |\n",
       "| 100225 | 1 | 35 | 3589267 |  9 | 1 | 1 | 13 | 1 | 1 | ⋯ | 1 | 1 | 10 |  70 |  7 | 10 | 1 | 2 | 60000 |  33.15 |\n",
       "| 100226 | 1 | 35 | 3589267 | 12 | 1 | 2 | 96 | 4 | 3 | ⋯ | 7 | 2 | 96 | 996 | 96 | 96 | 3 | 2 | 60000 |  75.14 |\n",
       "| 100227 | 1 | 35 | 3589267 | 12 | 2 | 1 |  2 | 3 | 2 | ⋯ | 4 | 1 |  0 |   0 |  0 |  0 | 1 | 2 | 60000 | 105.70 |\n",
       "| 100228 | 1 | 35 | 3589267 | 12 | 1 | 1 |  2 | 3 | 3 | ⋯ | 6 | 2 | 96 | 996 | 96 | 96 | 1 | 2 | 60000 |  75.14 |\n",
       "| 100229 | 1 | 35 | 3589267 | 11 | 1 | 2 | 96 | 4 | 3 | ⋯ | 7 | 2 | 96 | 996 | 96 | 96 | 1 | 2 | 60000 |  63.87 |\n",
       "\n"
      ],
      "text/plain": [
       "  SCANID MODULE PROVID SCHID   GRADE SEX SS_010 SS_020 TS_011 TV_010 ⋯ DVTY2ST\n",
       "1 100224 1      35     3589267  9    1   1      13     2      3      ⋯ 1      \n",
       "2 100225 1      35     3589267  9    1   1      13     1      1      ⋯ 1      \n",
       "3 100226 1      35     3589267 12    1   2      96     4      3      ⋯ 7      \n",
       "4 100227 1      35     3589267 12    2   1       2     3      2      ⋯ 4      \n",
       "5 100228 1      35     3589267 12    1   1       2     3      3      ⋯ 6      \n",
       "6 100229 1      35     3589267 11    1   2      96     4      3      ⋯ 7      \n",
       "  DVLAST30 DVAMTSMK DVCIGWK DVNDSMK DVAVCIGD DVRES DVURBAN DVHHINC2 WTPP  \n",
       "1 1         1         8      5       2       1     2       60000     33.15\n",
       "2 1        10        70      7      10       1     2       60000     33.15\n",
       "3 2        96       996     96      96       3     2       60000     75.14\n",
       "4 1         0         0      0       0       1     2       60000    105.70\n",
       "5 2        96       996     96      96       1     2       60000     75.14\n",
       "6 2        96       996     96      96       1     2       60000     63.87"
      ]
     },
     "metadata": {},
     "output_type": "display_data"
    }
   ],
   "source": [
    "head(drugdata)"
   ]
  },
  {
   "cell_type": "markdown",
   "id": "76bdec45-e2cc-45ed-9c97-59245e390615",
   "metadata": {},
   "source": [
    "First, select only the data that we need. In our case, select the variable CAN_040, which tells us how often an individual has used marijuana/cannabis in the lsat 30 days; and select DVHHINC2 for average household income of the individual's general school area.\n",
    "\n",
    "Re-naming the column names so they are more readable.\n",
    "\n",
    "Showing only first 6 rows of selected data "
   ]
  },
  {
   "cell_type": "code",
   "execution_count": 13,
   "id": "7560cb50-3f89-4982-8b3c-20084882e4c8",
   "metadata": {},
   "outputs": [
    {
     "data": {
      "text/html": [
       "<table class=\"dataframe\">\n",
       "<caption>A tibble: 6 × 2</caption>\n",
       "<thead>\n",
       "\t<tr><th scope=col>cannabis_use</th><th scope=col>household_income</th></tr>\n",
       "\t<tr><th scope=col>&lt;dbl&gt;</th><th scope=col>&lt;dbl&gt;</th></tr>\n",
       "</thead>\n",
       "<tbody>\n",
       "\t<tr><td>96</td><td>60000</td></tr>\n",
       "\t<tr><td> 6</td><td>60000</td></tr>\n",
       "\t<tr><td> 2</td><td>60000</td></tr>\n",
       "\t<tr><td> 2</td><td>60000</td></tr>\n",
       "\t<tr><td> 2</td><td>60000</td></tr>\n",
       "\t<tr><td>96</td><td>60000</td></tr>\n",
       "</tbody>\n",
       "</table>\n"
      ],
      "text/latex": [
       "A tibble: 6 × 2\n",
       "\\begin{tabular}{ll}\n",
       " cannabis\\_use & household\\_income\\\\\n",
       " <dbl> & <dbl>\\\\\n",
       "\\hline\n",
       "\t 96 & 60000\\\\\n",
       "\t  6 & 60000\\\\\n",
       "\t  2 & 60000\\\\\n",
       "\t  2 & 60000\\\\\n",
       "\t  2 & 60000\\\\\n",
       "\t 96 & 60000\\\\\n",
       "\\end{tabular}\n"
      ],
      "text/markdown": [
       "\n",
       "A tibble: 6 × 2\n",
       "\n",
       "| cannabis_use &lt;dbl&gt; | household_income &lt;dbl&gt; |\n",
       "|---|---|\n",
       "| 96 | 60000 |\n",
       "|  6 | 60000 |\n",
       "|  2 | 60000 |\n",
       "|  2 | 60000 |\n",
       "|  2 | 60000 |\n",
       "| 96 | 60000 |\n",
       "\n"
      ],
      "text/plain": [
       "  cannabis_use household_income\n",
       "1 96           60000           \n",
       "2  6           60000           \n",
       "3  2           60000           \n",
       "4  2           60000           \n",
       "5  2           60000           \n",
       "6 96           60000           "
      ]
     },
     "metadata": {},
     "output_type": "display_data"
    }
   ],
   "source": [
    "selected_drugdata <- select(drugdata, CAN_040, DVHHINC2)\n",
    "colnames(selected_drugdata) <- c(\"cannabis_use\",\"household_income\")\n",
    "\n",
    "head(selected_drugdata)"
   ]
  },
  {
   "cell_type": "code",
   "execution_count": null,
   "id": "28c9ae51-f571-4424-a239-e242f49ada76",
   "metadata": {},
   "outputs": [],
   "source": []
  }
 ],
 "metadata": {
  "kernelspec": {
   "display_name": "R",
   "language": "R",
   "name": "ir"
  },
  "language_info": {
   "codemirror_mode": "r",
   "file_extension": ".r",
   "mimetype": "text/x-r-source",
   "name": "R",
   "pygments_lexer": "r",
   "version": "4.1.3"
  }
 },
 "nbformat": 4,
 "nbformat_minor": 5
}
