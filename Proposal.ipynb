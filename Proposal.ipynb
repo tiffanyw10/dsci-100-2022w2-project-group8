{
 "cells": [
  {
   "cell_type": "markdown",
   "id": "8bdbddd9-aa2f-44f1-9c05-2bd731732837",
   "metadata": {},
   "source": [
    "# Relationship Between Marijuana/Cannabis Ese and Household Income \n",
    "\n",
    "   Studies have found a relationship between substance abuse and socioeconomic background, showing that substance abuse in young adults/children is associated with \"income, wealth and parental education\" (Patrick, M. E., Wightman, 2012). Manhica et al.’s study also concluded that early childhood poverty increased the risk of substance abuse in the future. To help us understand these associations, we chose the data set from the Canadian student tobacco alcohol and drugs survey administered to students from grades 7 to 12. We want to find out if there exists a relationship between marijuana/cannabis use and household income.\n",
    "\n",
    "*Dataset:* Health Canada; PROPEL Centre for Population Health Impact, 2020, \"2018/2019 Canadian student tobacco, alcohol and drugs survey\", https://hdl.handle.net/11272.1/AB2/WEFOHY, Abacus Data Network, V1, UNF:6:b30sgE/74ieEDNG49VXOJQ== [fileUNF]\n",
    "\n",
    "Methods: \n",
    "We will use the following two variables from the data set and use classification, rather than regression \n",
    "\n",
    "**CAN_040** : In the last 30 days, how often did you use marijuana or cannabis? Options include\n",
    "   \n",
    "* I have not done this in the last 30 days\n",
    "* Once or twice\n",
    "* Once or twice a week\n",
    "* 3 or 4 times a week\n",
    "* 5 or 6 times a week\n",
    "* every day\n",
    "* I do not know\n",
    "* valid skip\n",
    "* not stated\n",
    "\n",
    "**DVHHINC2** : Median Household Income of the area where the respondent’s school is located according to the Canadian 2016 census data.\n",
    "\n",
    "To display the relationship between income and number of people using marijuana, we will plot a bar plot with income on the x-axis and number of drug users on the y-axis. We expect to find that if household income is higher, then marijuana/cannabis use would be lower, so a negative relationship between these two variables. If our findings show that a particular income group is associated with drug use, organizations would be able to address particular income areas in an attempt to lower substance abuse.\n",
    "\n",
    "If our hypothesis is correct, we could address further questions such as :\n",
    "\n",
    "- Would individuals who come from a lower income household have better access to other types of drugs? \n",
    "- Why would higher income individuals have lower drug use?\n",
    "- What other reasoning would be behind higher drug use among individuals who come from lower income households? Is bullying a factor?\n"
   ]
  },
  {
   "cell_type": "code",
   "execution_count": 15,
   "id": "32ed5997-f01a-48d1-a23f-5ee4c13d6eaa",
   "metadata": {},
   "outputs": [],
   "source": [
    "library(repr)\n",
    "library(tidyverse)\n",
    "library(tidymodels)"
   ]
  },
  {
   "cell_type": "code",
   "execution_count": 16,
   "id": "937f2a8f-ba73-4ce3-9cfe-264e46500c7d",
   "metadata": {},
   "outputs": [
    {
     "name": "stderr",
     "output_type": "stream",
     "text": [
      "\u001b[1mRows: \u001b[22m\u001b[34m46020\u001b[39m \u001b[1mColumns: \u001b[22m\u001b[34m185\u001b[39m\n",
      "\u001b[36m──\u001b[39m \u001b[1mColumn specification\u001b[22m \u001b[36m────────────────────────────────────────────────────────\u001b[39m\n",
      "\u001b[1mDelimiter:\u001b[22m \"\\t\"\n",
      "\u001b[32mdbl\u001b[39m (185): SCANID, MODULE, PROVID, SCHID, GRADE, SEX, SS_010, SS_020, TS_011...\n",
      "\n",
      "\u001b[36mℹ\u001b[39m Use `spec()` to retrieve the full column specification for this data.\n",
      "\u001b[36mℹ\u001b[39m Specify the column types or set `show_col_types = FALSE` to quiet this message.\n"
     ]
    }
   ],
   "source": [
    "drugdata <- read_tsv(\"cstdata.tab\")"
   ]
  },
  {
   "cell_type": "code",
   "execution_count": 17,
   "id": "789ff081-8be0-4646-81c9-9e930d4a0579",
   "metadata": {},
   "outputs": [
    {
     "data": {
      "text/html": [
       "<table class=\"dataframe\">\n",
       "<caption>A tibble: 6 × 185</caption>\n",
       "<thead>\n",
       "\t<tr><th scope=col>SCANID</th><th scope=col>MODULE</th><th scope=col>PROVID</th><th scope=col>SCHID</th><th scope=col>GRADE</th><th scope=col>SEX</th><th scope=col>SS_010</th><th scope=col>SS_020</th><th scope=col>TS_011</th><th scope=col>TV_010</th><th scope=col>⋯</th><th scope=col>DVTY2ST</th><th scope=col>DVLAST30</th><th scope=col>DVAMTSMK</th><th scope=col>DVCIGWK</th><th scope=col>DVNDSMK</th><th scope=col>DVAVCIGD</th><th scope=col>DVRES</th><th scope=col>DVURBAN</th><th scope=col>DVHHINC2</th><th scope=col>WTPP</th></tr>\n",
       "\t<tr><th scope=col>&lt;dbl&gt;</th><th scope=col>&lt;dbl&gt;</th><th scope=col>&lt;dbl&gt;</th><th scope=col>&lt;dbl&gt;</th><th scope=col>&lt;dbl&gt;</th><th scope=col>&lt;dbl&gt;</th><th scope=col>&lt;dbl&gt;</th><th scope=col>&lt;dbl&gt;</th><th scope=col>&lt;dbl&gt;</th><th scope=col>&lt;dbl&gt;</th><th scope=col>⋯</th><th scope=col>&lt;dbl&gt;</th><th scope=col>&lt;dbl&gt;</th><th scope=col>&lt;dbl&gt;</th><th scope=col>&lt;dbl&gt;</th><th scope=col>&lt;dbl&gt;</th><th scope=col>&lt;dbl&gt;</th><th scope=col>&lt;dbl&gt;</th><th scope=col>&lt;dbl&gt;</th><th scope=col>&lt;dbl&gt;</th><th scope=col>&lt;dbl&gt;</th></tr>\n",
       "</thead>\n",
       "<tbody>\n",
       "\t<tr><td>100224</td><td>1</td><td>35</td><td>3589267</td><td> 9</td><td>1</td><td>1</td><td>13</td><td>2</td><td>3</td><td>⋯</td><td>1</td><td>1</td><td> 1</td><td>  8</td><td> 5</td><td> 2</td><td>1</td><td>2</td><td>60000</td><td> 33.15</td></tr>\n",
       "\t<tr><td>100225</td><td>1</td><td>35</td><td>3589267</td><td> 9</td><td>1</td><td>1</td><td>13</td><td>1</td><td>1</td><td>⋯</td><td>1</td><td>1</td><td>10</td><td> 70</td><td> 7</td><td>10</td><td>1</td><td>2</td><td>60000</td><td> 33.15</td></tr>\n",
       "\t<tr><td>100226</td><td>1</td><td>35</td><td>3589267</td><td>12</td><td>1</td><td>2</td><td>96</td><td>4</td><td>3</td><td>⋯</td><td>7</td><td>2</td><td>96</td><td>996</td><td>96</td><td>96</td><td>3</td><td>2</td><td>60000</td><td> 75.14</td></tr>\n",
       "\t<tr><td>100227</td><td>1</td><td>35</td><td>3589267</td><td>12</td><td>2</td><td>1</td><td> 2</td><td>3</td><td>2</td><td>⋯</td><td>4</td><td>1</td><td> 0</td><td>  0</td><td> 0</td><td> 0</td><td>1</td><td>2</td><td>60000</td><td>105.70</td></tr>\n",
       "\t<tr><td>100228</td><td>1</td><td>35</td><td>3589267</td><td>12</td><td>1</td><td>1</td><td> 2</td><td>3</td><td>3</td><td>⋯</td><td>6</td><td>2</td><td>96</td><td>996</td><td>96</td><td>96</td><td>1</td><td>2</td><td>60000</td><td> 75.14</td></tr>\n",
       "\t<tr><td>100229</td><td>1</td><td>35</td><td>3589267</td><td>11</td><td>1</td><td>2</td><td>96</td><td>4</td><td>3</td><td>⋯</td><td>7</td><td>2</td><td>96</td><td>996</td><td>96</td><td>96</td><td>1</td><td>2</td><td>60000</td><td> 63.87</td></tr>\n",
       "</tbody>\n",
       "</table>\n"
      ],
      "text/latex": [
       "A tibble: 6 × 185\n",
       "\\begin{tabular}{lllllllllllllllllllll}\n",
       " SCANID & MODULE & PROVID & SCHID & GRADE & SEX & SS\\_010 & SS\\_020 & TS\\_011 & TV\\_010 & ⋯ & DVTY2ST & DVLAST30 & DVAMTSMK & DVCIGWK & DVNDSMK & DVAVCIGD & DVRES & DVURBAN & DVHHINC2 & WTPP\\\\\n",
       " <dbl> & <dbl> & <dbl> & <dbl> & <dbl> & <dbl> & <dbl> & <dbl> & <dbl> & <dbl> & ⋯ & <dbl> & <dbl> & <dbl> & <dbl> & <dbl> & <dbl> & <dbl> & <dbl> & <dbl> & <dbl>\\\\\n",
       "\\hline\n",
       "\t 100224 & 1 & 35 & 3589267 &  9 & 1 & 1 & 13 & 2 & 3 & ⋯ & 1 & 1 &  1 &   8 &  5 &  2 & 1 & 2 & 60000 &  33.15\\\\\n",
       "\t 100225 & 1 & 35 & 3589267 &  9 & 1 & 1 & 13 & 1 & 1 & ⋯ & 1 & 1 & 10 &  70 &  7 & 10 & 1 & 2 & 60000 &  33.15\\\\\n",
       "\t 100226 & 1 & 35 & 3589267 & 12 & 1 & 2 & 96 & 4 & 3 & ⋯ & 7 & 2 & 96 & 996 & 96 & 96 & 3 & 2 & 60000 &  75.14\\\\\n",
       "\t 100227 & 1 & 35 & 3589267 & 12 & 2 & 1 &  2 & 3 & 2 & ⋯ & 4 & 1 &  0 &   0 &  0 &  0 & 1 & 2 & 60000 & 105.70\\\\\n",
       "\t 100228 & 1 & 35 & 3589267 & 12 & 1 & 1 &  2 & 3 & 3 & ⋯ & 6 & 2 & 96 & 996 & 96 & 96 & 1 & 2 & 60000 &  75.14\\\\\n",
       "\t 100229 & 1 & 35 & 3589267 & 11 & 1 & 2 & 96 & 4 & 3 & ⋯ & 7 & 2 & 96 & 996 & 96 & 96 & 1 & 2 & 60000 &  63.87\\\\\n",
       "\\end{tabular}\n"
      ],
      "text/markdown": [
       "\n",
       "A tibble: 6 × 185\n",
       "\n",
       "| SCANID &lt;dbl&gt; | MODULE &lt;dbl&gt; | PROVID &lt;dbl&gt; | SCHID &lt;dbl&gt; | GRADE &lt;dbl&gt; | SEX &lt;dbl&gt; | SS_010 &lt;dbl&gt; | SS_020 &lt;dbl&gt; | TS_011 &lt;dbl&gt; | TV_010 &lt;dbl&gt; | ⋯ ⋯ | DVTY2ST &lt;dbl&gt; | DVLAST30 &lt;dbl&gt; | DVAMTSMK &lt;dbl&gt; | DVCIGWK &lt;dbl&gt; | DVNDSMK &lt;dbl&gt; | DVAVCIGD &lt;dbl&gt; | DVRES &lt;dbl&gt; | DVURBAN &lt;dbl&gt; | DVHHINC2 &lt;dbl&gt; | WTPP &lt;dbl&gt; |\n",
       "|---|---|---|---|---|---|---|---|---|---|---|---|---|---|---|---|---|---|---|---|---|\n",
       "| 100224 | 1 | 35 | 3589267 |  9 | 1 | 1 | 13 | 2 | 3 | ⋯ | 1 | 1 |  1 |   8 |  5 |  2 | 1 | 2 | 60000 |  33.15 |\n",
       "| 100225 | 1 | 35 | 3589267 |  9 | 1 | 1 | 13 | 1 | 1 | ⋯ | 1 | 1 | 10 |  70 |  7 | 10 | 1 | 2 | 60000 |  33.15 |\n",
       "| 100226 | 1 | 35 | 3589267 | 12 | 1 | 2 | 96 | 4 | 3 | ⋯ | 7 | 2 | 96 | 996 | 96 | 96 | 3 | 2 | 60000 |  75.14 |\n",
       "| 100227 | 1 | 35 | 3589267 | 12 | 2 | 1 |  2 | 3 | 2 | ⋯ | 4 | 1 |  0 |   0 |  0 |  0 | 1 | 2 | 60000 | 105.70 |\n",
       "| 100228 | 1 | 35 | 3589267 | 12 | 1 | 1 |  2 | 3 | 3 | ⋯ | 6 | 2 | 96 | 996 | 96 | 96 | 1 | 2 | 60000 |  75.14 |\n",
       "| 100229 | 1 | 35 | 3589267 | 11 | 1 | 2 | 96 | 4 | 3 | ⋯ | 7 | 2 | 96 | 996 | 96 | 96 | 1 | 2 | 60000 |  63.87 |\n",
       "\n"
      ],
      "text/plain": [
       "  SCANID MODULE PROVID SCHID   GRADE SEX SS_010 SS_020 TS_011 TV_010 ⋯ DVTY2ST\n",
       "1 100224 1      35     3589267  9    1   1      13     2      3      ⋯ 1      \n",
       "2 100225 1      35     3589267  9    1   1      13     1      1      ⋯ 1      \n",
       "3 100226 1      35     3589267 12    1   2      96     4      3      ⋯ 7      \n",
       "4 100227 1      35     3589267 12    2   1       2     3      2      ⋯ 4      \n",
       "5 100228 1      35     3589267 12    1   1       2     3      3      ⋯ 6      \n",
       "6 100229 1      35     3589267 11    1   2      96     4      3      ⋯ 7      \n",
       "  DVLAST30 DVAMTSMK DVCIGWK DVNDSMK DVAVCIGD DVRES DVURBAN DVHHINC2 WTPP  \n",
       "1 1         1         8      5       2       1     2       60000     33.15\n",
       "2 1        10        70      7      10       1     2       60000     33.15\n",
       "3 2        96       996     96      96       3     2       60000     75.14\n",
       "4 1         0         0      0       0       1     2       60000    105.70\n",
       "5 2        96       996     96      96       1     2       60000     75.14\n",
       "6 2        96       996     96      96       1     2       60000     63.87"
      ]
     },
     "metadata": {},
     "output_type": "display_data"
    }
   ],
   "source": [
    "head(drugdata)"
   ]
  },
  {
   "cell_type": "markdown",
   "id": "76bdec45-e2cc-45ed-9c97-59245e390615",
   "metadata": {},
   "source": [
    "First, select only the data that we need. In our case, select the variable CAN_040, which tells us how often an individual has used marijuana/cannabis in the last 30 days; and select DVHHINC2 for average household income of the individual's general school area.\n",
    "\n",
    "Re-naming the column names so they are more readable.\n",
    "\n",
    "Showing only first 6 rows of selected data "
   ]
  },
  {
   "cell_type": "code",
   "execution_count": 18,
   "id": "7560cb50-3f89-4982-8b3c-20084882e4c8",
   "metadata": {},
   "outputs": [
    {
     "data": {
      "text/html": [
       "<table class=\"dataframe\">\n",
       "<caption>A tibble: 6 × 2</caption>\n",
       "<thead>\n",
       "\t<tr><th scope=col>household_income</th><th scope=col>cannabis_use</th></tr>\n",
       "\t<tr><th scope=col>&lt;dbl&gt;</th><th scope=col>&lt;dbl&gt;</th></tr>\n",
       "</thead>\n",
       "<tbody>\n",
       "\t<tr><td>60000</td><td>96</td></tr>\n",
       "\t<tr><td>60000</td><td> 6</td></tr>\n",
       "\t<tr><td>60000</td><td> 2</td></tr>\n",
       "\t<tr><td>60000</td><td> 2</td></tr>\n",
       "\t<tr><td>60000</td><td> 2</td></tr>\n",
       "\t<tr><td>60000</td><td>96</td></tr>\n",
       "</tbody>\n",
       "</table>\n"
      ],
      "text/latex": [
       "A tibble: 6 × 2\n",
       "\\begin{tabular}{ll}\n",
       " household\\_income & cannabis\\_use\\\\\n",
       " <dbl> & <dbl>\\\\\n",
       "\\hline\n",
       "\t 60000 & 96\\\\\n",
       "\t 60000 &  6\\\\\n",
       "\t 60000 &  2\\\\\n",
       "\t 60000 &  2\\\\\n",
       "\t 60000 &  2\\\\\n",
       "\t 60000 & 96\\\\\n",
       "\\end{tabular}\n"
      ],
      "text/markdown": [
       "\n",
       "A tibble: 6 × 2\n",
       "\n",
       "| household_income &lt;dbl&gt; | cannabis_use &lt;dbl&gt; |\n",
       "|---|---|\n",
       "| 60000 | 96 |\n",
       "| 60000 |  6 |\n",
       "| 60000 |  2 |\n",
       "| 60000 |  2 |\n",
       "| 60000 |  2 |\n",
       "| 60000 | 96 |\n",
       "\n"
      ],
      "text/plain": [
       "  household_income cannabis_use\n",
       "1 60000            96          \n",
       "2 60000             6          \n",
       "3 60000             2          \n",
       "4 60000             2          \n",
       "5 60000             2          \n",
       "6 60000            96          "
      ]
     },
     "metadata": {},
     "output_type": "display_data"
    }
   ],
   "source": [
    "selected_drugdata <- select(drugdata, DVHHINC2 , CAN_040)\n",
    "colnames(selected_drugdata) <- c(\"household_income\",\"cannabis_use\")\n",
    "\n",
    "head(selected_drugdata)"
   ]
  },
  {
   "cell_type": "code",
   "execution_count": 19,
   "id": "28c9ae51-f571-4424-a239-e242f49ada76",
   "metadata": {},
   "outputs": [
    {
     "data": {
      "text/html": [
       "<table class=\"dataframe\">\n",
       "<caption>A tibble: 6 × 2</caption>\n",
       "<thead>\n",
       "\t<tr><th scope=col>household_income</th><th scope=col>cannabis_use</th></tr>\n",
       "\t<tr><th scope=col>&lt;dbl&gt;</th><th scope=col>&lt;dbl&gt;</th></tr>\n",
       "</thead>\n",
       "<tbody>\n",
       "\t<tr><td>60000</td><td>6</td></tr>\n",
       "\t<tr><td>60000</td><td>2</td></tr>\n",
       "\t<tr><td>60000</td><td>2</td></tr>\n",
       "\t<tr><td>60000</td><td>2</td></tr>\n",
       "\t<tr><td>60000</td><td>5</td></tr>\n",
       "\t<tr><td>60000</td><td>2</td></tr>\n",
       "</tbody>\n",
       "</table>\n"
      ],
      "text/latex": [
       "A tibble: 6 × 2\n",
       "\\begin{tabular}{ll}\n",
       " household\\_income & cannabis\\_use\\\\\n",
       " <dbl> & <dbl>\\\\\n",
       "\\hline\n",
       "\t 60000 & 6\\\\\n",
       "\t 60000 & 2\\\\\n",
       "\t 60000 & 2\\\\\n",
       "\t 60000 & 2\\\\\n",
       "\t 60000 & 5\\\\\n",
       "\t 60000 & 2\\\\\n",
       "\\end{tabular}\n"
      ],
      "text/markdown": [
       "\n",
       "A tibble: 6 × 2\n",
       "\n",
       "| household_income &lt;dbl&gt; | cannabis_use &lt;dbl&gt; |\n",
       "|---|---|\n",
       "| 60000 | 6 |\n",
       "| 60000 | 2 |\n",
       "| 60000 | 2 |\n",
       "| 60000 | 2 |\n",
       "| 60000 | 5 |\n",
       "| 60000 | 2 |\n",
       "\n"
      ],
      "text/plain": [
       "  household_income cannabis_use\n",
       "1 60000            6           \n",
       "2 60000            2           \n",
       "3 60000            2           \n",
       "4 60000            2           \n",
       "5 60000            5           \n",
       "6 60000            2           "
      ]
     },
     "metadata": {},
     "output_type": "display_data"
    }
   ],
   "source": [
    "filtered_drugdata <- selected_drugdata |>\n",
    "    filter(cannabis_use == 2 | cannabis_use == 3 | cannabis_use == 4 | cannabis_use == 5| cannabis_use == 6)\n",
    "\n",
    "head(filtered_drugdata)\n",
    "    "
   ]
  },
  {
   "cell_type": "markdown",
   "id": "e9ff10f2-08e5-4a6c-87f5-7ee7786e161c",
   "metadata": {},
   "source": [
    "We filter the results that correspond to those who answered \"yes\" to have used cannabis at least once in the last 30 days."
   ]
  },
  {
   "cell_type": "code",
   "execution_count": 20,
   "id": "5f9823e9-af11-4f80-be8b-b404d195c54a",
   "metadata": {},
   "outputs": [
    {
     "data": {
      "text/html": [
       "<table class=\"dataframe\">\n",
       "<caption>A tibble: 16 × 2</caption>\n",
       "<thead>\n",
       "\t<tr><th scope=col>household_income</th><th scope=col>count</th></tr>\n",
       "\t<tr><th scope=col>&lt;dbl&gt;</th><th scope=col>&lt;int&gt;</th></tr>\n",
       "</thead>\n",
       "<tbody>\n",
       "\t<tr><td> 40000</td><td> 240</td></tr>\n",
       "\t<tr><td> 45000</td><td>3570</td></tr>\n",
       "\t<tr><td> 50000</td><td>3401</td></tr>\n",
       "\t<tr><td> 55000</td><td>3722</td></tr>\n",
       "\t<tr><td> 60000</td><td>6554</td></tr>\n",
       "\t<tr><td> 65000</td><td>4006</td></tr>\n",
       "\t<tr><td> 70000</td><td>4601</td></tr>\n",
       "\t<tr><td> 75000</td><td>3951</td></tr>\n",
       "\t<tr><td> 80000</td><td>4456</td></tr>\n",
       "\t<tr><td> 85000</td><td>3454</td></tr>\n",
       "\t<tr><td> 90000</td><td>2037</td></tr>\n",
       "\t<tr><td> 95000</td><td>1126</td></tr>\n",
       "\t<tr><td>100000</td><td>1383</td></tr>\n",
       "\t<tr><td>105000</td><td> 639</td></tr>\n",
       "\t<tr><td>110000</td><td>1024</td></tr>\n",
       "\t<tr><td>120000</td><td>1856</td></tr>\n",
       "</tbody>\n",
       "</table>\n"
      ],
      "text/latex": [
       "A tibble: 16 × 2\n",
       "\\begin{tabular}{ll}\n",
       " household\\_income & count\\\\\n",
       " <dbl> & <int>\\\\\n",
       "\\hline\n",
       "\t  40000 &  240\\\\\n",
       "\t  45000 & 3570\\\\\n",
       "\t  50000 & 3401\\\\\n",
       "\t  55000 & 3722\\\\\n",
       "\t  60000 & 6554\\\\\n",
       "\t  65000 & 4006\\\\\n",
       "\t  70000 & 4601\\\\\n",
       "\t  75000 & 3951\\\\\n",
       "\t  80000 & 4456\\\\\n",
       "\t  85000 & 3454\\\\\n",
       "\t  90000 & 2037\\\\\n",
       "\t  95000 & 1126\\\\\n",
       "\t 100000 & 1383\\\\\n",
       "\t 105000 &  639\\\\\n",
       "\t 110000 & 1024\\\\\n",
       "\t 120000 & 1856\\\\\n",
       "\\end{tabular}\n"
      ],
      "text/markdown": [
       "\n",
       "A tibble: 16 × 2\n",
       "\n",
       "| household_income &lt;dbl&gt; | count &lt;int&gt; |\n",
       "|---|---|\n",
       "|  40000 |  240 |\n",
       "|  45000 | 3570 |\n",
       "|  50000 | 3401 |\n",
       "|  55000 | 3722 |\n",
       "|  60000 | 6554 |\n",
       "|  65000 | 4006 |\n",
       "|  70000 | 4601 |\n",
       "|  75000 | 3951 |\n",
       "|  80000 | 4456 |\n",
       "|  85000 | 3454 |\n",
       "|  90000 | 2037 |\n",
       "|  95000 | 1126 |\n",
       "| 100000 | 1383 |\n",
       "| 105000 |  639 |\n",
       "| 110000 | 1024 |\n",
       "| 120000 | 1856 |\n",
       "\n"
      ],
      "text/plain": [
       "   household_income count\n",
       "1   40000            240 \n",
       "2   45000           3570 \n",
       "3   50000           3401 \n",
       "4   55000           3722 \n",
       "5   60000           6554 \n",
       "6   65000           4006 \n",
       "7   70000           4601 \n",
       "8   75000           3951 \n",
       "9   80000           4456 \n",
       "10  85000           3454 \n",
       "11  90000           2037 \n",
       "12  95000           1126 \n",
       "13 100000           1383 \n",
       "14 105000            639 \n",
       "15 110000           1024 \n",
       "16 120000           1856 "
      ]
     },
     "metadata": {},
     "output_type": "display_data"
    }
   ],
   "source": [
    "number_respondents <- selected_drugdata |>\n",
    "    group_by(household_income) |>\n",
    "    summarize(count=n())\n",
    "\n",
    "number_respondents"
   ]
  },
  {
   "cell_type": "markdown",
   "id": "626128a3-a569-49db-85fb-a2c3b814c96e",
   "metadata": {},
   "source": [
    "Shows total number of respondents to the specified question in the survey."
   ]
  },
  {
   "cell_type": "code",
   "execution_count": 21,
   "id": "f2147270-8829-4744-8f4d-3c207b48bc8d",
   "metadata": {},
   "outputs": [
    {
     "data": {
      "text/html": [
       "<table class=\"dataframe\">\n",
       "<caption>A tibble: 6 × 2</caption>\n",
       "<thead>\n",
       "\t<tr><th scope=col>household_income</th><th scope=col>cannabis_use</th></tr>\n",
       "\t<tr><th scope=col>&lt;dbl&gt;</th><th scope=col>&lt;dbl&gt;</th></tr>\n",
       "</thead>\n",
       "<tbody>\n",
       "\t<tr><td>50000</td><td>2</td></tr>\n",
       "\t<tr><td>50000</td><td>5</td></tr>\n",
       "\t<tr><td>45000</td><td>2</td></tr>\n",
       "\t<tr><td>45000</td><td>6</td></tr>\n",
       "\t<tr><td>45000</td><td>2</td></tr>\n",
       "\t<tr><td>45000</td><td>2</td></tr>\n",
       "</tbody>\n",
       "</table>\n"
      ],
      "text/latex": [
       "A tibble: 6 × 2\n",
       "\\begin{tabular}{ll}\n",
       " household\\_income & cannabis\\_use\\\\\n",
       " <dbl> & <dbl>\\\\\n",
       "\\hline\n",
       "\t 50000 & 2\\\\\n",
       "\t 50000 & 5\\\\\n",
       "\t 45000 & 2\\\\\n",
       "\t 45000 & 6\\\\\n",
       "\t 45000 & 2\\\\\n",
       "\t 45000 & 2\\\\\n",
       "\\end{tabular}\n"
      ],
      "text/markdown": [
       "\n",
       "A tibble: 6 × 2\n",
       "\n",
       "| household_income &lt;dbl&gt; | cannabis_use &lt;dbl&gt; |\n",
       "|---|---|\n",
       "| 50000 | 2 |\n",
       "| 50000 | 5 |\n",
       "| 45000 | 2 |\n",
       "| 45000 | 6 |\n",
       "| 45000 | 2 |\n",
       "| 45000 | 2 |\n",
       "\n"
      ],
      "text/plain": [
       "  household_income cannabis_use\n",
       "1 50000            2           \n",
       "2 50000            5           \n",
       "3 45000            2           \n",
       "4 45000            6           \n",
       "5 45000            2           \n",
       "6 45000            2           "
      ]
     },
     "metadata": {},
     "output_type": "display_data"
    },
    {
     "data": {
      "text/html": [
       "<table class=\"dataframe\">\n",
       "<caption>A tibble: 6 × 2</caption>\n",
       "<thead>\n",
       "\t<tr><th scope=col>household_income</th><th scope=col>cannabis_use</th></tr>\n",
       "\t<tr><th scope=col>&lt;dbl&gt;</th><th scope=col>&lt;dbl&gt;</th></tr>\n",
       "</thead>\n",
       "<tbody>\n",
       "\t<tr><td>60000</td><td>6</td></tr>\n",
       "\t<tr><td>60000</td><td>2</td></tr>\n",
       "\t<tr><td>60000</td><td>2</td></tr>\n",
       "\t<tr><td>60000</td><td>6</td></tr>\n",
       "\t<tr><td>60000</td><td>6</td></tr>\n",
       "\t<tr><td>60000</td><td>5</td></tr>\n",
       "</tbody>\n",
       "</table>\n"
      ],
      "text/latex": [
       "A tibble: 6 × 2\n",
       "\\begin{tabular}{ll}\n",
       " household\\_income & cannabis\\_use\\\\\n",
       " <dbl> & <dbl>\\\\\n",
       "\\hline\n",
       "\t 60000 & 6\\\\\n",
       "\t 60000 & 2\\\\\n",
       "\t 60000 & 2\\\\\n",
       "\t 60000 & 6\\\\\n",
       "\t 60000 & 6\\\\\n",
       "\t 60000 & 5\\\\\n",
       "\\end{tabular}\n"
      ],
      "text/markdown": [
       "\n",
       "A tibble: 6 × 2\n",
       "\n",
       "| household_income &lt;dbl&gt; | cannabis_use &lt;dbl&gt; |\n",
       "|---|---|\n",
       "| 60000 | 6 |\n",
       "| 60000 | 2 |\n",
       "| 60000 | 2 |\n",
       "| 60000 | 6 |\n",
       "| 60000 | 6 |\n",
       "| 60000 | 5 |\n",
       "\n"
      ],
      "text/plain": [
       "  household_income cannabis_use\n",
       "1 60000            6           \n",
       "2 60000            2           \n",
       "3 60000            2           \n",
       "4 60000            6           \n",
       "5 60000            6           \n",
       "6 60000            5           "
      ]
     },
     "metadata": {},
     "output_type": "display_data"
    }
   ],
   "source": [
    "set.seed(1)\n",
    "drugdata_split <- initial_split(filtered_drugdata, prop = 0.75, strata = household_income)  \n",
    "drugdata_train <- training(drugdata_split)\n",
    "drugdata_test <- testing(drugdata_split)\n",
    "\n",
    "head(drugdata_train)\n",
    "head(drugdata_test)\n"
   ]
  },
  {
   "cell_type": "markdown",
   "id": "502ac8d7-9732-4880-b2c2-e32fc8b8322b",
   "metadata": {},
   "source": [
    "Dataset is split into training(75%) data and test(25%) data"
   ]
  },
  {
   "cell_type": "code",
   "execution_count": 22,
   "id": "737a227c-1f66-42f3-9d85-3426a2b8e2e2",
   "metadata": {},
   "outputs": [],
   "source": [
    "drugdata_count <- drugdata_train |>\n",
    "    group_by(household_income) |>\n",
    "    summarize(count=n())\n"
   ]
  },
  {
   "cell_type": "markdown",
   "id": "47b661f6-061c-435c-b845-28a912b337f3",
   "metadata": {},
   "source": [
    "The cell above shows the number of people who have used cannabis/marijuana in the last 30 days, grouped by different levels of income."
   ]
  },
  {
   "cell_type": "code",
   "execution_count": 23,
   "id": "041ae14a-6ad5-47eb-9a8a-9698a258a708",
   "metadata": {},
   "outputs": [
    {
     "data": {
      "image/png": "[encoded data removed]",
      "text/plain": [
       "plot without title"
      ]
     },
     "metadata": {
      "image/png": {
       "height": 540,
       "width": 1200
      }
     },
     "output_type": "display_data"
    }
   ],
   "source": [
    "options(repr.plot.width = 20, repr.plot.height = 9)\n",
    "drugdata_plot <- drugdata_count |>\n",
    "    ggplot(aes(x = household_income, y = count))+\n",
    "    geom_bar(stat=\"identity\") +\n",
    "    xlab(\"Median Income for individual's school area\") + ylab(\"Number of marijuana users\")\n",
    "\n",
    "drugdata_plot"
   ]
  },
  {
   "cell_type": "markdown",
   "id": "a48dc41b-eed7-4478-a44e-21be12ae490e",
   "metadata": {},
   "source": [
    "**References**\n",
    "\n",
    "Manhica, H., Straatmann, V. S., Lundin, A., Agardh, E., & Danielsson, A. (2021). Association between poverty exposure during childhood and adolescence, and drug use disorders and drug‐related crimes later in life. Addiction (Abingdon, England), 116(7), 1747-1756. \n",
    "\n",
    "Patrick, M. E., Wightman, P., Schoeni, R. F., &amp; Schulenberg, J. E. (2012, September). Socioeconomic status and substance use among young adults: A comparison across constructs and Drugs. Journal of studies on alcohol and drugs. "
   ]
  }
 ],
 "metadata": {
  "kernelspec": {
   "display_name": "R",
   "language": "R",
   "name": "ir"
  },
  "language_info": {
   "codemirror_mode": "r",
   "file_extension": ".r",
   "mimetype": "text/x-r-source",
   "name": "R",
   "pygments_lexer": "r",
   "version": "4.1.3"
  }
 },
 "nbformat": 4,
 "nbformat_minor": 5
}
