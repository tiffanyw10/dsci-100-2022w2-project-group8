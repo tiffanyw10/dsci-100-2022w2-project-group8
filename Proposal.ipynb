{
 "cells": [
  {
   "cell_type": "markdown",
   "id": "8bdbddd9-aa2f-44f1-9c05-2bd731732837",
   "metadata": {},
   "source": [
    "# Relationship between marijuana/cannabis use and household income \n",
    "\n",
    "   Many studies have found a relationship between substance abuse and socioeconomic background, showing that substance abuse in young adults/children is associated with lower socioeconomic status. The data set we chose to help understand these associations is a survey done in 2018/2019 regarding student tobacco, alcohol and drug use. We want to find out if there exists a relationship between marijuana/cannabis use and household income.\n",
    "\n",
    "Methods: \n",
    "How will we conduct data analysis and which variables will we use?\n",
    "\n",
    "**CAN_040** : In the last 30 days, how often did you use marijuana or cannabis?\t\n",
    "**DVHHINC2** : Median Household Income of the area where the respondent’s school is located according to the Canadian 2016 census data\n",
    "\n",
    "**Describe one way we will visualize the results**\n",
    "Bar plot: To display the relationship between income and number of people using marijuana, we will plot income on the x-axis and number of drug users on the y-axis. \n",
    "\t\n",
    "\n",
    "**Expected Outcomes and Significance**\n",
    "\tWe expect to find that if household income is higher, then marijuana/cannabis use would be lower, so a negative relationship between these two variables.\n",
    "\n",
    "**what impact will these findings have?**\n",
    "If our findings show that a particular income group is associated with drug use, organizations would be able to address particular income areas in an attempt to lower substance abuse.\n",
    "\n",
    "If our hypothesis is correct, we could address further questions such as :\n",
    "Would individuals who come from a lower income household have better access to other types of drugs? \n",
    "Why would higher income individuals have lower drug use?\n",
    "What other reasoning would be behind higher drug use among individuals who come from lower income households? Is bullying a factor?\n"
   ]
  },
  {
   "cell_type": "code",
   "execution_count": null,
   "id": "32ed5997-f01a-48d1-a23f-5ee4c13d6eaa",
   "metadata": {},
   "outputs": [],
   "source": []
  }
 ],
 "metadata": {
  "kernelspec": {
   "display_name": "R",
   "language": "R",
   "name": "ir"
  },
  "language_info": {
   "codemirror_mode": "r",
   "file_extension": ".r",
   "mimetype": "text/x-r-source",
   "name": "R",
   "pygments_lexer": "r",
   "version": "4.1.3"
  }
 },
 "nbformat": 4,
 "nbformat_minor": 5
}
